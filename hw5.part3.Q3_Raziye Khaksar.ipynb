{
  "nbformat": 4,
  "nbformat_minor": 0,
  "metadata": {
    "colab": {
      "name": "Untitled10.ipynb",
      "provenance": [],
      "collapsed_sections": []
    },
    "kernelspec": {
      "name": "python3",
      "display_name": "Python 3"
    }
  },
  "cells": [
    {
      "cell_type": "code",
      "metadata": {
        "colab": {
          "base_uri": "https://localhost:8080/"
        },
        "id": "r04QfgtnmbfC",
        "outputId": "b8bd2b48-5706-47dc-eb3d-f1d977558caf"
      },
      "source": [
        "#Python Exercises-part 3 : Q3\r\n",
        "\r\n",
        "def reverse(a):\r\n",
        "  b=\"\"\r\n",
        "  length=len(a)\r\n",
        "  i=0\r\n",
        "  while i<length:\r\n",
        "    b=b+a[length-i-1]\r\n",
        "    i+=1\r\n",
        "  return b\r\n",
        "\r\n",
        "Given=[\"Ali\" , \"Mohammad\", \"Reza\", \"Arezoo\", \"Mona\"]\r\n",
        "\r\n",
        "rev=list(map(reverse,Given))\r\n",
        "print(rev)\r\n",
        "\r\n"
      ],
      "execution_count": 18,
      "outputs": [
        {
          "output_type": "stream",
          "text": [
            "['ilA', 'dammahoM', 'azeR', 'oozerA', 'anoM']\n"
          ],
          "name": "stdout"
        }
      ]
    },
    {
      "cell_type": "code",
      "metadata": {
        "id": "_j5JwcDOniWT"
      },
      "source": [
        ""
      ],
      "execution_count": null,
      "outputs": []
    }
  ]
}